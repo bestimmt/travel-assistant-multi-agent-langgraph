{
 "cells": [
  {
   "cell_type": "markdown",
   "metadata": {},
   "source": [
    "# Preparing the Data"
   ]
  },
  {
   "cell_type": "markdown",
   "metadata": {},
   "source": [
    "you can call for preparing the databases and vectorstores from scratch\n",
    "\n",
    "```python\n",
    "from utils.prepare_database import DataPreparer\n",
    "preparer = DataPreparer(verbose=True)\n",
    "preparer.prepare_all()\n",
    "```\n",
    "\n",
    "if the datasets are changed, simply recover\n",
    "```python\n",
    "import shutil\n",
    "shutil.copy(BACKUP, DB)\n",
    "```"
   ]
  },
  {
   "cell_type": "code",
   "execution_count": 3,
   "metadata": {},
   "outputs": [
    {
     "name": "stdout",
     "output_type": "stream",
     "text": [
      "Trying to request and download database from URL...\n",
      "DB saved to C:\\Users\\fcali\\OneDrive\\Masaüstü\\DATA_SCIENCE\\LLMs\\TRAVEL_ASSISTANT_MULTI_AGENT\\database\\travel2.sqlite\n",
      "DB copied to C:\\Users\\fcali\\OneDrive\\Masaüstü\\DATA_SCIENCE\\LLMs\\TRAVEL_ASSISTANT_MULTI_AGENT\\database\\travel2.backup.sqlite\n",
      "DB connection established to C:\\Users\\fcali\\OneDrive\\Masaüstü\\DATA_SCIENCE\\LLMs\\TRAVEL_ASSISTANT_MULTI_AGENT\\database\\travel2.sqlite\n",
      "Bookings table, timestamps shifted by 102 days 05:49:15.065818 days\n",
      "Flights table, timestamps shifted by 102 days 05:49:15.065818 days\n",
      "All timestamp changes overwritten to DB: C:\\Users\\fcali\\OneDrive\\Masaüstü\\DATA_SCIENCE\\LLMs\\TRAVEL_ASSISTANT_MULTI_AGENT\\database\\travel2.sqlite\n",
      "Existing vectorstore loaded successfully with type: VectorStore\n",
      "Retriever instantiated = 'similarity: 2'\n",
      "All preparation steps completed successfully.\n"
     ]
    }
   ],
   "source": [
    "from utils.prepare_database import DataPreparer\n",
    "\n",
    "db_url = \"https://storage.googleapis.com/benchmarks-artifacts/travel-db/travel2.sqlite\"\n",
    "faq_doc_url = \"https://storage.googleapis.com/benchmarks-artifacts/travel-db/swiss_faq.md\"\n",
    "local_file = r\"C:\\Users\\fcali\\OneDrive\\Masaüstü\\DATA_SCIENCE\\LLMs\\TRAVEL_ASSISTANT_MULTI_AGENT\\database\\travel2.sqlite\"\n",
    "backup_file = r\"C:\\Users\\fcali\\OneDrive\\Masaüstü\\DATA_SCIENCE\\LLMs\\TRAVEL_ASSISTANT_MULTI_AGENT\\database\\travel2.backup.sqlite\"\n",
    "v_db_file = r\"C:\\Users\\fcali\\OneDrive\\Masaüstü\\DATA_SCIENCE\\LLMs\\TRAVEL_ASSISTANT_MULTI_AGENT\\database\\chroma_langchain_db\"\n",
    "\n",
    "data_preparer = DataPreparer(verbose=True)\n",
    "data_preparer.prepare_all()"
   ]
  },
  {
   "cell_type": "markdown",
   "metadata": {},
   "source": [
    "## Observe what we have downloaded"
   ]
  },
  {
   "cell_type": "code",
   "execution_count": 4,
   "metadata": {},
   "outputs": [
    {
     "data": {
      "text/plain": [
       "['aircrafts_data',\n",
       " 'airports_data',\n",
       " 'boarding_passes',\n",
       " 'bookings',\n",
       " 'flights',\n",
       " 'seats',\n",
       " 'ticket_flights',\n",
       " 'tickets',\n",
       " 'car_rentals',\n",
       " 'hotels',\n",
       " 'trip_recommendations']"
      ]
     },
     "execution_count": 4,
     "metadata": {},
     "output_type": "execute_result"
    }
   ],
   "source": [
    "import sqlite3\n",
    "import pandas as pd\n",
    "\n",
    "conn = sqlite3.connect(local_file)\n",
    "cursor = conn.cursor()\n",
    "\n",
    "# sqlite_master: The Schema Table\n",
    "sql_query = \"\"\"SELECT name FROM\n",
    "sqlite_master\n",
    "WHERE type='table';\n",
    "\"\"\"\n",
    "\n",
    "tables = pd.read_sql(sql_query, conn)['name'].to_list()\n",
    "tables"
   ]
  },
  {
   "cell_type": "code",
   "execution_count": 6,
   "metadata": {},
   "outputs": [
    {
     "data": {
      "text/html": [
       "<div>\n",
       "<style scoped>\n",
       "    .dataframe tbody tr th:only-of-type {\n",
       "        vertical-align: middle;\n",
       "    }\n",
       "\n",
       "    .dataframe tbody tr th {\n",
       "        vertical-align: top;\n",
       "    }\n",
       "\n",
       "    .dataframe thead th {\n",
       "        text-align: right;\n",
       "    }\n",
       "</style>\n",
       "<table border=\"1\" class=\"dataframe\">\n",
       "  <thead>\n",
       "    <tr style=\"text-align: right;\">\n",
       "      <th></th>\n",
       "      <th>flight_id</th>\n",
       "      <th>flight_no</th>\n",
       "      <th>scheduled_departure</th>\n",
       "      <th>scheduled_arrival</th>\n",
       "      <th>departure_airport</th>\n",
       "      <th>arrival_airport</th>\n",
       "      <th>status</th>\n",
       "      <th>aircraft_code</th>\n",
       "      <th>actual_departure</th>\n",
       "      <th>actual_arrival</th>\n",
       "    </tr>\n",
       "  </thead>\n",
       "  <tbody>\n",
       "    <tr>\n",
       "      <th>0</th>\n",
       "      <td>1185</td>\n",
       "      <td>QR0051</td>\n",
       "      <td>2024-09-05 02:42:16.963917-04:00</td>\n",
       "      <td>2024-09-05 07:47:16.963917-04:00</td>\n",
       "      <td>BSL</td>\n",
       "      <td>BKK</td>\n",
       "      <td>Scheduled</td>\n",
       "      <td>319</td>\n",
       "      <td>None</td>\n",
       "      <td>None</td>\n",
       "    </tr>\n",
       "    <tr>\n",
       "      <th>1</th>\n",
       "      <td>3979</td>\n",
       "      <td>MU0066</td>\n",
       "      <td>2024-08-20 07:42:16.963917-04:00</td>\n",
       "      <td>2024-08-20 10:27:16.963917-04:00</td>\n",
       "      <td>SHA</td>\n",
       "      <td>CUN</td>\n",
       "      <td>Scheduled</td>\n",
       "      <td>CR2</td>\n",
       "      <td>None</td>\n",
       "      <td>None</td>\n",
       "    </tr>\n",
       "    <tr>\n",
       "      <th>2</th>\n",
       "      <td>4739</td>\n",
       "      <td>QF0126</td>\n",
       "      <td>2024-08-31 05:22:16.963917-04:00</td>\n",
       "      <td>2024-08-31 07:07:16.963917-04:00</td>\n",
       "      <td>SHA</td>\n",
       "      <td>AMS</td>\n",
       "      <td>Scheduled</td>\n",
       "      <td>763</td>\n",
       "      <td>None</td>\n",
       "      <td>None</td>\n",
       "    </tr>\n",
       "    <tr>\n",
       "      <th>3</th>\n",
       "      <td>5502</td>\n",
       "      <td>LX0136</td>\n",
       "      <td>2024-09-07 02:42:16.963917-04:00</td>\n",
       "      <td>2024-09-07 04:12:16.963917-04:00</td>\n",
       "      <td>OSL</td>\n",
       "      <td>PRG</td>\n",
       "      <td>Scheduled</td>\n",
       "      <td>763</td>\n",
       "      <td>None</td>\n",
       "      <td>None</td>\n",
       "    </tr>\n",
       "    <tr>\n",
       "      <th>4</th>\n",
       "      <td>6938</td>\n",
       "      <td>IB0075</td>\n",
       "      <td>2024-08-30 05:17:16.963917-04:00</td>\n",
       "      <td>2024-08-30 06:12:16.963917-04:00</td>\n",
       "      <td>OSL</td>\n",
       "      <td>RGN</td>\n",
       "      <td>Scheduled</td>\n",
       "      <td>SU9</td>\n",
       "      <td>None</td>\n",
       "      <td>None</td>\n",
       "    </tr>\n",
       "  </tbody>\n",
       "</table>\n",
       "</div>"
      ],
      "text/plain": [
       "   flight_id flight_no               scheduled_departure  \\\n",
       "0       1185    QR0051  2024-09-05 02:42:16.963917-04:00   \n",
       "1       3979    MU0066  2024-08-20 07:42:16.963917-04:00   \n",
       "2       4739    QF0126  2024-08-31 05:22:16.963917-04:00   \n",
       "3       5502    LX0136  2024-09-07 02:42:16.963917-04:00   \n",
       "4       6938    IB0075  2024-08-30 05:17:16.963917-04:00   \n",
       "\n",
       "                  scheduled_arrival departure_airport arrival_airport  \\\n",
       "0  2024-09-05 07:47:16.963917-04:00               BSL             BKK   \n",
       "1  2024-08-20 10:27:16.963917-04:00               SHA             CUN   \n",
       "2  2024-08-31 07:07:16.963917-04:00               SHA             AMS   \n",
       "3  2024-09-07 04:12:16.963917-04:00               OSL             PRG   \n",
       "4  2024-08-30 06:12:16.963917-04:00               OSL             RGN   \n",
       "\n",
       "      status aircraft_code actual_departure actual_arrival  \n",
       "0  Scheduled           319             None           None  \n",
       "1  Scheduled           CR2             None           None  \n",
       "2  Scheduled           763             None           None  \n",
       "3  Scheduled           763             None           None  \n",
       "4  Scheduled           SU9             None           None  "
      ]
     },
     "execution_count": 6,
     "metadata": {},
     "output_type": "execute_result"
    }
   ],
   "source": [
    "# Lets dive deep on tables\n",
    "# But first, make dataframe all of them\n",
    "\n",
    "table_dataframes = {}\n",
    "for table in tables:\n",
    "    table_dataframes[table] = pd.read_sql_query(f\"SELECT * FROM {table}\", conn)\n",
    "\n",
    "# for example\n",
    "table_dataframes['flights'].head()"
   ]
  },
  {
   "cell_type": "code",
   "execution_count": 7,
   "metadata": {},
   "outputs": [
    {
     "name": "stdout",
     "output_type": "stream",
     "text": [
      "Table Name: aircrafts_data\n",
      "Total Records: 9\n",
      "\n",
      "  aircraft_code                model  range\n",
      "0           773       Boeing 777-300  11100\n",
      "1           763       Boeing 767-300   7900\n",
      "2           SU9  Sukhoi Superjet-100   3000\n",
      "3           320      Airbus A320-200   5700\n",
      "4           321      Airbus A321-200   5600\n",
      "---------------------------------------------------------------------------------------------------- \n",
      "\n",
      "Table Name: airports_data\n",
      "Total Records: 115\n",
      "\n",
      "  airport_code                                      airport_name         city  \\\n",
      "0          ATL  Hartsfield-Jackson Atlanta International Airport      Atlanta   \n",
      "1          PEK             Beijing Capital International Airport      Beijing   \n",
      "2          DXB                       Dubai International Airport        Dubai   \n",
      "3          LAX                 Los Angeles International Airport  Los Angeles   \n",
      "4          HND                              Tokyo Haneda Airport        Tokyo   \n",
      "\n",
      "            coordinates             timezone  \n",
      "0   [33.6407, -84.4277]     America/New_York  \n",
      "1   [40.0799, 116.6031]        Asia/Shanghai  \n",
      "2    [25.2532, 55.3657]           Asia/Dubai  \n",
      "3  [33.9416, -118.4085]  America/Los_Angeles  \n",
      "4   [35.5494, 139.7798]           Asia/Tokyo  \n",
      "---------------------------------------------------------------------------------------------------- \n",
      "\n",
      "Table Name: boarding_passes\n",
      "Total Records: 579686\n",
      "\n",
      "          ticket_no  flight_id  boarding_no seat_no\n",
      "0  0060005435212351      30625            1      2D\n",
      "1  0060005435212386      30625            2      3G\n",
      "2  0060005435212381      30625            3      4H\n",
      "3  0060005432211370      30625            4      5D\n",
      "4  0060005435212357      30625            5     11A\n",
      "---------------------------------------------------------------------------------------------------- \n",
      "\n",
      "Table Name: bookings\n",
      "Total Records: 262788\n",
      "\n",
      "  book_ref                         book_date  total_amount\n",
      "0   00000F  2024-06-30 00:04:16.963917+00:00        265700\n",
      "1   000012  2024-07-09 05:54:16.963917+00:00         37900\n",
      "2   000068  2024-08-10 11:19:16.963917+00:00         18100\n",
      "3   000181  2024-08-05 10:20:16.963917+00:00        131800\n",
      "4   0002D8  2024-08-02 18:32:16.963917+00:00         23600\n",
      "---------------------------------------------------------------------------------------------------- \n",
      "\n",
      "Table Name: flights\n",
      "Total Records: 33121\n",
      "\n",
      "   flight_id flight_no               scheduled_departure  \\\n",
      "0       1185    QR0051  2024-09-05 02:42:16.963917-04:00   \n",
      "1       3979    MU0066  2024-08-20 07:42:16.963917-04:00   \n",
      "2       4739    QF0126  2024-08-31 05:22:16.963917-04:00   \n",
      "3       5502    LX0136  2024-09-07 02:42:16.963917-04:00   \n",
      "4       6938    IB0075  2024-08-30 05:17:16.963917-04:00   \n",
      "\n",
      "                  scheduled_arrival departure_airport arrival_airport  \\\n",
      "0  2024-09-05 07:47:16.963917-04:00               BSL             BKK   \n",
      "1  2024-08-20 10:27:16.963917-04:00               SHA             CUN   \n",
      "2  2024-08-31 07:07:16.963917-04:00               SHA             AMS   \n",
      "3  2024-09-07 04:12:16.963917-04:00               OSL             PRG   \n",
      "4  2024-08-30 06:12:16.963917-04:00               OSL             RGN   \n",
      "\n",
      "      status aircraft_code actual_departure actual_arrival  \n",
      "0  Scheduled           319             None           None  \n",
      "1  Scheduled           CR2             None           None  \n",
      "2  Scheduled           763             None           None  \n",
      "3  Scheduled           763             None           None  \n",
      "4  Scheduled           SU9             None           None  \n",
      "---------------------------------------------------------------------------------------------------- \n",
      "\n",
      "Table Name: seats\n",
      "Total Records: 1339\n",
      "\n",
      "  aircraft_code seat_no fare_conditions\n",
      "0           319      2A        Business\n",
      "1           319      2C        Business\n",
      "2           319      2D        Business\n",
      "3           319      2F        Business\n",
      "4           319      3A        Business\n",
      "---------------------------------------------------------------------------------------------------- \n",
      "\n",
      "Table Name: ticket_flights\n",
      "Total Records: 1045726\n",
      "\n",
      "          ticket_no  flight_id fare_conditions  amount\n",
      "0  0060005432159776      30625        Business   42100\n",
      "1  0060005435212351      30625        Business   42100\n",
      "2  0060005435212386      30625        Business   42100\n",
      "3  0060005435212381      30625        Business   42100\n",
      "4  0060005432211370      30625        Business   42100\n",
      "---------------------------------------------------------------------------------------------------- \n",
      "\n",
      "Table Name: tickets\n",
      "Total Records: 366733\n",
      "\n",
      "          ticket_no book_ref passenger_id\n",
      "0  9880005432000987   06B046  8149 604011\n",
      "1  9880005432000988   06B046  8499 420203\n",
      "2  9880005432000989   E170C3  1011 752484\n",
      "3  9880005432000990   E170C3  4849 400049\n",
      "4  9880005432000991   F313DD  6615 976589\n",
      "---------------------------------------------------------------------------------------------------- \n",
      "\n",
      "Table Name: car_rentals\n",
      "Total Records: 10\n",
      "\n",
      "   id      name location price_tier  start_date    end_date  booked\n",
      "0   1  Europcar    Basel    Economy  2024-04-14  2024-04-11       0\n",
      "1   2      Avis    Basel     Luxury  2024-04-10  2024-04-20       0\n",
      "2   3     Hertz   Zurich    Midsize  2024-04-10  2024-04-07       0\n",
      "3   4      Sixt     Bern        SUV  2024-04-20  2024-04-26       0\n",
      "4   5    Budget  Lucerne    Compact  2024-04-01  2024-04-19       0\n",
      "---------------------------------------------------------------------------------------------------- \n",
      "\n",
      "Table Name: hotels\n",
      "Total Records: 10\n",
      "\n",
      "   id                  name location      price_tier checkin_date  \\\n",
      "0   1          Hilton Basel    Basel          Luxury   2024-04-22   \n",
      "1   2       Marriott Zurich   Zurich         Upscale   2024-04-14   \n",
      "2   3   Hyatt Regency Basel    Basel   Upper Upscale   2024-04-02   \n",
      "3   4  Radisson Blu Lucerne  Lucerne        Midscale   2024-04-24   \n",
      "4   5     Best Western Bern     Bern  Upper Midscale   2024-04-23   \n",
      "\n",
      "  checkout_date  booked  \n",
      "0    2024-04-20       0  \n",
      "1    2024-04-21       0  \n",
      "2    2024-04-20       0  \n",
      "3    2024-04-05       0  \n",
      "4    2024-04-01       0  \n",
      "---------------------------------------------------------------------------------------------------- \n",
      "\n",
      "Table Name: trip_recommendations\n",
      "Total Records: 10\n",
      "\n",
      "   id                   name location               keywords  \\\n",
      "0   1          Basel Minster    Basel      landmark, history   \n",
      "1   2      Kunstmuseum Basel    Basel            art, museum   \n",
      "2   3        Zurich Old Town   Zurich  history, architecture   \n",
      "3   4  Lucerne Chapel Bridge  Lucerne      landmark, history   \n",
      "4   5         Bern Bear Park     Bern         wildlife, park   \n",
      "\n",
      "                                             details  booked  \n",
      "0  Visit the historic Basel Minster, a beautiful ...       0  \n",
      "1  Explore the extensive art collection at the Ku...       0  \n",
      "2  Take a stroll through the charming streets of ...       0  \n",
      "3   Walk across the iconic Chapel Bridge in Lucerne.       0  \n",
      "4  Visit the Bern Bear Park and see the city's fa...       0  \n",
      "---------------------------------------------------------------------------------------------------- \n",
      "\n"
     ]
    }
   ],
   "source": [
    "# lets observe all the tables:\n",
    "for table_name, table in table_dataframes.items():\n",
    "    print(f\"Table Name: {table_name}\")\n",
    "    print(F\"Total Records: {len(table)}\\n\")\n",
    "    print(table.head())\n",
    "    print(\"-\"*100, \"\\n\")"
   ]
  },
  {
   "cell_type": "markdown",
   "metadata": {},
   "source": [
    "## Try Using VectorDatabase"
   ]
  },
  {
   "cell_type": "code",
   "execution_count": 1,
   "metadata": {},
   "outputs": [],
   "source": [
    "from utils.prepare_database import DataPreparer\n",
    "\n",
    "retriever = DataPreparer().start_retriever()"
   ]
  },
  {
   "cell_type": "code",
   "execution_count": 2,
   "metadata": {},
   "outputs": [
    {
     "data": {
      "text/plain": [
       "[Document(page_content='## Booking and Cancellation\\n\\n1. How can I change my booking?\\n\\t* The ticket number must start with 724 (SWISS ticket no./plate).\\n\\t* The ticket was not paid for by barter or voucher (there are exceptions to voucher payments; if the ticket was paid for in full by voucher, then it may be possible to rebook online under certain circumstances. If it is not possible to rebook online because of the payment method, then you will be informed accordingly during the rebooking process).\\n\\t* There must be an active flight booking for your ticket. It is not possible to rebook open tickets or tickets without the corresponding flight segments online at the moment.\\n\\t* It is currently only possible to rebook outbound (one-way) tickets or return tickets with single flight routes (point-to-point).\\n2. Which tickets/bookings cannot be rebooked online currently?\\n\\t* Bookings containing flight segments with other airlines\\n\\t* Bookings containing reservations, where a ticket has not yet been issued\\n\\t* Bookings with several valid tickets for the same person and route\\n\\t* Tickets with a status other than O (open) (A)\\n\\t* Bookings with segments with a status other than OK (e.g. containing flight segments with the status Waitlist) (HK|RR)\\n\\t* Tickets that do not display the tariff calculation (IT tickets)\\n\\t* Bookings that contain special services (e.g. transportation of animals/transportation of medical equipment/transportation of special sporting equipment etc.)\\n\\t* Tickets that are part of a group booking\\n\\t* Tickets on which the booking class (RBD) does not correspond to the tariff code (FareBase)\\n3. Am I allowed to make changes to my online redemption booking?\\n\\t* Redemption bookings can not yet be changed on swiss.com.\\n4. What changes can I make on my ticket?\\n\\t* You can change the flight and the travel dates. Change of origin and destination or name changes are not possible online.\\n5. After I have made changes to the itinerary online, can I make another change?\\n\\t* If the fare condition allows it, it is possible to make multiple changes to the itinerary.\\n6. Can a name be changed after a booking is made?\\n\\t* The correct name(s) of the customer travelling need to be entered in a booking. The first and last name of the passenger travelling needs to be entered exactly as in the travel documents. Entering a middle name is optional and can be added in the first name field. However, there is a character limitation for this field.\\n\\t* Your first and middle name is stored by the system spelled together without spaces. This is not a mistake and does not affect your booking.\\n\\t* Any subsequent name changes, including adding names to a ticket, are not allowed.\\n7. Is it possible to apply the changes only to some of the passengers in the same booking?\\n\\t* The changes will always be applied to all passengers travelling together. Changes to the passenger name or number of passengers is not possible online.\\n8. Until what time before departure can a flight be rebooked online?\\n\\t* The minimum time before departure for online rebookings depends on your departure airport. If you are departing from a Swiss airport, then you can rebook online up to three hours before departure.\\n9. Will any differences in airport taxes be refunded online, if the new flight choice is cheaper?\\n\\t* No, online refunds are currently not possible.\\n10. Why isn\\'t the rebooking made in the same currency as the ticket?\\n\\t* Any calculations associated with the rebooking will be made in the currency of the original country of departure (Point of Commencement).\\n11. Will my seat reservation be taken into account in the rebooking?\\n\\t* Yes, your seat reservation will be included in the rebooking.\\n12. Will my special meal be included in the rebooking?\\n\\t* Yes, your special meal will be included.\\n13. Will my additional passenger details (APIS) be included in the rebooking?\\n\\t* Yes, your APIS details will be included.\\n14. Will the travel insurance obtained from the Europäische Reiseversicherung (European Travel Insurance) through SWISS be included in the new ticket?\\n\\t* Yes, the travel insurance obtained through SWISS will be included in the new ticket and will remain valid.\\n15. Will I be given a new booking reference after rebooking?\\n\\t* No, your booking reference will stay the same after rebooking.\\n16. Will I be given a new ticket number after rebooking?\\n\\t* Yes, you will be given a new ticket number after rebooking.\\n17. Can I change my booking after checking in online?\\n\\t* No, only tickets with the status \"Open\" can be changed online.\\n18. I want to change a flight booking which is part of a package purchased with a Travel Agency. What do I need to consider?\\n\\t* The changes processed on swiss.com are limited to the flight booking only. No changes to any other service included in your package (e.g. hotel, rental car etc.) will be processed.\\n19. I want to process an online change to a flight booking which was purchased with a Travel Agency. What do I need to consider?\\n\\t* You can change your flight booking online, but your Travel Agency will not have access to your new electronic ticket.'),\n",
       " Document(page_content='## How to Cancel a Swiss Air Flight: 877-5O7-7341 Step-by-Step Guide\\nSwiss Air is a premium airline based in Switzerland that offers a range of domestic and international flights to passengers. However, sometimes situations arise where passengers may need to cancel their flights. In such cases, it is important to understand the Swiss Air Cancellation Policy to avoid any confusion or additional charges.\\n\\nSwiss International Airlines Cancellation Policy\\nIn this article, we will provide you with everything you need to know about the Swiss Air Cancellation Policy, including how to cancel a Swiss Air flight, the fees associated with cancelling a flight, and the refund policy.\\n\\nIf you have booked a flight with Swiss Airlines but need to cancel it, it\\'s important to understand their cancellation policy to avoid any unnecessary fees or charges.\\nSwiss Airlines offers different fare types, each with their own specific cancellation terms and conditions. The most flexible fare types such as Flex and Business Flex allow you to cancel your flight up to 24 hours before departure without any penalty. For other fare types, cancellation fees may apply.\\nIf you cancel your Swiss Airlines flight outside of the 24-hour window, cancellation fees will be charged depending on your fare type and the time of cancellation. For example, if you cancel a non-flexible economy class ticket, a cancellation fee will be charged. The closer you cancel to the departure date, the higher the cancellation fee.\\nIn some cases, Swiss Airlines may allow you to make changes to your flight instead of cancelling it outright. However, these changes may also come with fees or penalties depending on your fare type and the type of change requested.\\nIf Swiss Airlines cancels your flight, you may be entitled to a full refund or rebooking on another flight. However, if the cancellation is due to extraordinary circumstances such as bad weather or political unrest, Swiss Airlines may not be obligated to offer any compensation.\\nIn summary, Swiss Airlines\\' cancellation policy varies depending on your fare type and the time of cancellation. To avoid any unnecessary fees or charges, it\\'s important to familiarise yourself with the terms and conditions of your ticket and to contact Swiss Airlines as soon as possible if you need to make changes or cancel your flight.\\n\\nHow to Cancel a Swiss Air Flight?\\nIf you need to cancel a Swiss Air flight, you can do so online, through the mobile app, or by contacting the Swiss Air Customer Service team. To cancel a flight online, you can log in to your Swiss Air account and follow the instructions provided.\\n\\nSwiss Air Flight Cancellations Online\\nIf you need to cancel a Swiss Air flight, you can do so by following these steps:\\n\\nVisit the Swiss Air website or app and navigate to the \"My Bookings\" section.\\nLog in with your booking details.\\nFind the flight you want to cancel and click on the \"Cancel\" button.\\nFollow the prompts to confirm your cancellation.\\nReview the cancellation policy and any fees that may apply.\\nIf eligible for a refund, submit a refund request through the website or app.\\nAlternatively, you can also cancel your Swiss Air flight by contacting their customer service department via phone, email or live chat. Be sure to have your booking details ready when you contact them. Keep in mind that depending on the fare type and the timing of your cancellation, you may be subject to fees or penalties.\\n\\nIf you choose to cancel your flight through the Swiss Air Customer Service team, you can contact them through the phone or email. It is important to note that cancellation fees may apply depending on the type of ticket you have purchased.\\n\\nSwiss Air Flight Cancellations via Call\\nStep 1: Find the Customer Service Number\\n\\nThe first step is to find the Swiss Air customer service number. You can find this number on the Swiss Air website or on your booking confirmation email.\\n\\nStep 2: Call the Customer Service\\n\\nOnce you have the number, call the Swiss Air customer service team. You will be prompted to choose your language, and then you will be connected to a representative.\\n\\nStep 3: Provide your Flight Details\\n\\nProvide your flight details, including your booking reference number, flight number, and departure date. The representative will confirm your flight details and ask you why you want to cancel your flight.\\n\\nStep 4: Confirm the Cancellation\\n\\nConfirm that you want to cancel your flight. The representative will let you know if there are any cancellation fees or penalties associated with your ticket, and what your refund options are.\\n\\nStep 5: Receive Confirmation\\n\\nYou will receive a confirmation email once your cancellation has been processed. Make sure to save this email for your records.\\n\\nSwiss Air Flight Cancellations at Airport\\nStep 1: Go to the Airport\\n\\nIf you\\'re cancelling your Swiss Air flight at the airport, go to the Swiss Air check-in desk or the customer service desk.\\n\\nStep 2: Provide your Flight Details\\n\\nProvide your flight details to the representative at the desk, including your booking reference number, flight number, and departure date. The representative will confirm your flight details and ask you why you want to cancel your flight.\\n\\nStep 3: Confirm the Cancellation\\n\\nConfirm that you want to cancel your flight. The representative will let you know if there are any cancellation fees or penalties associated with your ticket, and what your refund options are.\\n\\nStep 4: Receive Confirmation\\n\\nYou will receive a confirmation email once your cancellation has been processed. Make sure to save this email for your records.\\n\\nImportant Things to Keep in Mind to Cancel a Swiss Air Flight\\nIf you have a non-refundable ticket, you may not be eligible for a refund or may only be able to receive a partial refund.\\nIf you booked your flight through a third-party website or travel agent, you may need to contact them directly to cancel your flight.\\nAlways check the terms and conditions of your ticket to make sure you understand the cancellation policy and any associated fees or penalties.\\nIf you\\'re cancelling your flight due to unforeseen circumstances such as a medical emergency or a natural disaster, Swiss Air may offer you special exemptions or accommodations.\\nWhat is Swiss Airlines 24 Hour Cancellation Policy?\\nSwiss Airlines has a 24 hour cancellation policy that allows passengers to cancel their flights within 24 hours of booking at +1-877-507-7341 without penalty. This policy applies to all fare types, including non-refundable tickets. If you cancel your Swiss Airlines flight within 24 hours of booking, you\\'ll receive a full refund of your ticket price.\\n\\nHow to Cancel Swiss Airlines Flight within 24 Hours?\\nIf you need to cancel your Swiss Airlines flight within 24 hours of booking, you can do so easily online. Here are the steps to follow:\\n\\nGo to Swiss Airlines\\' website and click on the \"Manage your bookings\" tab.\\nEnter your booking reference number and last name to access your booking.\\nSelect the flight you want to cancel and click on \"Cancel flight.\"\\nConfirm your cancellation and you\\'ll receive a full refund of your ticket price.\\nIf you booked your Swiss Airlines flight through a travel agent, you\\'ll need to contact them directly to cancel your flight within 24 hours.\\n\\nImportant Things to Keep in Mind for Swiss Airlines 24 Hour Cancellation\\nHere are some important things to keep in mind when cancelling your Swiss Airlines flight within 24 hours:\\n\\nSwiss Airlines\\' 24 hour cancellation policy only applies to flights booked directly through Swiss Airlines. If you booked your flight through a travel agent or third-party website, you\\'ll need to check their cancellation policy.\\nIf you cancel your Swiss Airlines flight after the 24 hour window, you may be subject to cancellation fees or penalties.\\nIf you have a non-refundable ticket and cancel your flight within 24 hours of booking, you\\'ll receive a full refund of your ticket price. However, if you cancel your flight after the 24 hour window, you may not be eligible for a refund.\\nSwiss Airlines\\' 24 hour cancellation policy allows passengers to cancel their flights within 24 hours of booking without penalty. If you need to cancel your Swiss Airlines flight within 24 hours, you can do so easily online. Just remember to check the terms and conditions of your ticket to make sure you\\'re eligible for a refund.\\n\\nSwiss Air Cancellation Fees\\nThe cancellation fees for Swiss Air flights may vary depending on the type of ticket you have purchased. The airline offers three different types of tickets, which are:\\n\\nFlex Ticket - This ticket offers the most flexibility and allows passengers to make changes or cancel their flight without incurring any additional fees.\\nStandard Ticket - This ticket offers some flexibility but charges a fee for changes and cancellations. The fee for cancelling a standard ticket can range from 100 to 250 CHF, depending on the route and time of cancellation.\\nEconomy Ticket - This ticket offers the least flexibility and charges a fee for any changes or cancellations. The fee for cancelling an economy ticket can range from 150 to 350 CHF, depending on the route and time of cancellation.\\nIt is important to note that the fees listed above are subject to change and may vary depending on the specific ticket you have purchased. Additionally, if you have purchased any add-ons or upgrades, such as extra baggage or seat selection, the fees associated with cancelling those may also apply.\\n\\nSwiss Air Refund Policy\\nIf you cancel your Swiss Air flight, you may be eligible for a refund depending on the type of ticket you have purchased and the time of cancellation. Here are the details:\\n\\nFlex Ticket - If you have purchased a Flex Ticket, you can cancel your flight without incurring any fees and receive a full refund.\\nStandard Ticket - If you have purchased a Standard Ticket and cancel your flight within 24 hours of booking, you can receive a full refund. If you cancel your flight after 24 hours, you may be charged a cancellation fee and receive a partial refund.\\nEconomy Ticket - If you have purchased an Economy Ticket and cancel your flight within 24 hours of booking, you can receive a full refund. If you cancel your flight after 24 hours, you may be charged a cancellation fee and receive a partial refund.\\nIt is important to note that the refund policy may vary depending on the route and time of cancellation. Additionally, if you have purchased any add-ons or upgrades, the refund policy associated with those may also apply.\\n\\nSwiss Flight Cancellation Compensation Explained\\nSwiss Air has a comprehensive cancellation policy that outlines the compensation passengers are entitled to in case of flight cancellations. Depending on the circumstances, passengers may be eligible for a full refund, rebooking on the next available flight, or financial compensation. We\\'ll break down the specifics of the policy and provide step-by-step instructions on how to make a claim for compensation.\\n\\nIn addition, we\\'ll also provide tips on how to avoid flight cancellations in the first place, such as booking your flight in advance and keeping an eye on weather forecasts and other potential disruptions.\\n\\nFlight cancellations can be frustrating, but knowing your rights and how to claim compensation can make the experience less stressful. With Swiss Air\\'s comprehensive cancellation policy and our tips for avoiding cancellations, you can rest assured that your travel plans are in good hands.\\n\\nConclusion\\n\\nIn summary, the Swiss Air Cancellation Policy is designed to provide passengers with flexibility and options when it comes to cancelling their flights. If you need to cancel a Swiss Air flight, you can do so online, through the mobile app, or by contacting the Swiss Air Customer Service team. However, it is important to understand the fees associated with cancelling a flight and the refund policy that applies to your specific ticket.\\n\\nBy understanding the Swiss Air Cancellation Policy, you can make informed decisions and avoid any confusion or additional charges. With this policy, Swiss Airlines aims to provide flexibility and convenience to its passengers, making travel planning a hassle-free experience.')]"
      ]
     },
     "execution_count": 2,
     "metadata": {},
     "output_type": "execute_result"
    }
   ],
   "source": [
    "query = \"How can i change my flight?\"\n",
    "retrieved_content = retriever.invoke(query)\n",
    "retrieved_content"
   ]
  },
  {
   "cell_type": "code",
   "execution_count": 2,
   "metadata": {},
   "outputs": [
    {
     "name": "stderr",
     "output_type": "stream",
     "text": [
      "c:\\Users\\fcali\\OneDrive\\Masaüstü\\DATA_SCIENCE\\LLMs\\TRAVEL_ASSISTANT_MULTI_AGENT\\.venv\\Lib\\site-packages\\langchain_core\\_api\\deprecation.py:139: LangChainDeprecationWarning: The method `BaseTool.__call__` was deprecated in langchain-core 0.1.47 and will be removed in 0.3.0. Use invoke instead.\n",
      "  warn_deprecated(\n"
     ]
    },
    {
     "data": {
      "text/plain": [
       "'## Booking and Cancellation\\n\\n1. How can I change my booking?\\n\\t* The ticket number must start with 724 (SWISS ticket no./plate).\\n\\t* The ticket was not paid for by barter or voucher (there are exceptions to voucher payments; if the ticket was paid for in full by voucher, then it may be possible to rebook online under certain circumstances. If it is not possible to rebook online because of the payment method, then you will be informed accordingly during the rebooking process).\\n\\t* There must be an active flight booking for your ticket. It is not possible to rebook open tickets or tickets without the corresponding flight segments online at the moment.\\n\\t* It is currently only possible to rebook outbound (one-way) tickets or return tickets with single flight routes (point-to-point).\\n2. Which tickets/bookings cannot be rebooked online currently?\\n\\t* Bookings containing flight segments with other airlines\\n\\t* Bookings containing reservations, where a ticket has not yet been issued\\n\\t* Bookings with several valid tickets for the same person and route\\n\\t* Tickets with a status other than O (open) (A)\\n\\t* Bookings with segments with a status other than OK (e.g. containing flight segments with the status Waitlist) (HK|RR)\\n\\t* Tickets that do not display the tariff calculation (IT tickets)\\n\\t* Bookings that contain special services (e.g. transportation of animals/transportation of medical equipment/transportation of special sporting equipment etc.)\\n\\t* Tickets that are part of a group booking\\n\\t* Tickets on which the booking class (RBD) does not correspond to the tariff code (FareBase)\\n3. Am I allowed to make changes to my online redemption booking?\\n\\t* Redemption bookings can not yet be changed on swiss.com.\\n4. What changes can I make on my ticket?\\n\\t* You can change the flight and the travel dates. Change of origin and destination or name changes are not possible online.\\n5. After I have made changes to the itinerary online, can I make another change?\\n\\t* If the fare condition allows it, it is possible to make multiple changes to the itinerary.\\n6. Can a name be changed after a booking is made?\\n\\t* The correct name(s) of the customer travelling need to be entered in a booking. The first and last name of the passenger travelling needs to be entered exactly as in the travel documents. Entering a middle name is optional and can be added in the first name field. However, there is a character limitation for this field.\\n\\t* Your first and middle name is stored by the system spelled together without spaces. This is not a mistake and does not affect your booking.\\n\\t* Any subsequent name changes, including adding names to a ticket, are not allowed.\\n7. Is it possible to apply the changes only to some of the passengers in the same booking?\\n\\t* The changes will always be applied to all passengers travelling together. Changes to the passenger name or number of passengers is not possible online.\\n8. Until what time before departure can a flight be rebooked online?\\n\\t* The minimum time before departure for online rebookings depends on your departure airport. If you are departing from a Swiss airport, then you can rebook online up to three hours before departure.\\n9. Will any differences in airport taxes be refunded online, if the new flight choice is cheaper?\\n\\t* No, online refunds are currently not possible.\\n10. Why isn\\'t the rebooking made in the same currency as the ticket?\\n\\t* Any calculations associated with the rebooking will be made in the currency of the original country of departure (Point of Commencement).\\n11. Will my seat reservation be taken into account in the rebooking?\\n\\t* Yes, your seat reservation will be included in the rebooking.\\n12. Will my special meal be included in the rebooking?\\n\\t* Yes, your special meal will be included.\\n13. Will my additional passenger details (APIS) be included in the rebooking?\\n\\t* Yes, your APIS details will be included.\\n14. Will the travel insurance obtained from the Europäische Reiseversicherung (European Travel Insurance) through SWISS be included in the new ticket?\\n\\t* Yes, the travel insurance obtained through SWISS will be included in the new ticket and will remain valid.\\n15. Will I be given a new booking reference after rebooking?\\n\\t* No, your booking reference will stay the same after rebooking.\\n16. Will I be given a new ticket number after rebooking?\\n\\t* Yes, you will be given a new ticket number after rebooking.\\n17. Can I change my booking after checking in online?\\n\\t* No, only tickets with the status \"Open\" can be changed online.\\n18. I want to change a flight booking which is part of a package purchased with a Travel Agency. What do I need to consider?\\n\\t* The changes processed on swiss.com are limited to the flight booking only. No changes to any other service included in your package (e.g. hotel, rental car etc.) will be processed.\\n19. I want to process an online change to a flight booking which was purchased with a Travel Agency. What do I need to consider?\\n\\t* You can change your flight booking online, but your Travel Agency will not have access to your new electronic ticket.\\n\\n## How to Cancel a Swiss Air Flight: 877-5O7-7341 Step-by-Step Guide\\nSwiss Air is a premium airline based in Switzerland that offers a range of domestic and international flights to passengers. However, sometimes situations arise where passengers may need to cancel their flights. In such cases, it is important to understand the Swiss Air Cancellation Policy to avoid any confusion or additional charges.\\n\\nSwiss International Airlines Cancellation Policy\\nIn this article, we will provide you with everything you need to know about the Swiss Air Cancellation Policy, including how to cancel a Swiss Air flight, the fees associated with cancelling a flight, and the refund policy.\\n\\nIf you have booked a flight with Swiss Airlines but need to cancel it, it\\'s important to understand their cancellation policy to avoid any unnecessary fees or charges.\\nSwiss Airlines offers different fare types, each with their own specific cancellation terms and conditions. The most flexible fare types such as Flex and Business Flex allow you to cancel your flight up to 24 hours before departure without any penalty. For other fare types, cancellation fees may apply.\\nIf you cancel your Swiss Airlines flight outside of the 24-hour window, cancellation fees will be charged depending on your fare type and the time of cancellation. For example, if you cancel a non-flexible economy class ticket, a cancellation fee will be charged. The closer you cancel to the departure date, the higher the cancellation fee.\\nIn some cases, Swiss Airlines may allow you to make changes to your flight instead of cancelling it outright. However, these changes may also come with fees or penalties depending on your fare type and the type of change requested.\\nIf Swiss Airlines cancels your flight, you may be entitled to a full refund or rebooking on another flight. However, if the cancellation is due to extraordinary circumstances such as bad weather or political unrest, Swiss Airlines may not be obligated to offer any compensation.\\nIn summary, Swiss Airlines\\' cancellation policy varies depending on your fare type and the time of cancellation. To avoid any unnecessary fees or charges, it\\'s important to familiarise yourself with the terms and conditions of your ticket and to contact Swiss Airlines as soon as possible if you need to make changes or cancel your flight.\\n\\nHow to Cancel a Swiss Air Flight?\\nIf you need to cancel a Swiss Air flight, you can do so online, through the mobile app, or by contacting the Swiss Air Customer Service team. To cancel a flight online, you can log in to your Swiss Air account and follow the instructions provided.\\n\\nSwiss Air Flight Cancellations Online\\nIf you need to cancel a Swiss Air flight, you can do so by following these steps:\\n\\nVisit the Swiss Air website or app and navigate to the \"My Bookings\" section.\\nLog in with your booking details.\\nFind the flight you want to cancel and click on the \"Cancel\" button.\\nFollow the prompts to confirm your cancellation.\\nReview the cancellation policy and any fees that may apply.\\nIf eligible for a refund, submit a refund request through the website or app.\\nAlternatively, you can also cancel your Swiss Air flight by contacting their customer service department via phone, email or live chat. Be sure to have your booking details ready when you contact them. Keep in mind that depending on the fare type and the timing of your cancellation, you may be subject to fees or penalties.\\n\\nIf you choose to cancel your flight through the Swiss Air Customer Service team, you can contact them through the phone or email. It is important to note that cancellation fees may apply depending on the type of ticket you have purchased.\\n\\nSwiss Air Flight Cancellations via Call\\nStep 1: Find the Customer Service Number\\n\\nThe first step is to find the Swiss Air customer service number. You can find this number on the Swiss Air website or on your booking confirmation email.\\n\\nStep 2: Call the Customer Service\\n\\nOnce you have the number, call the Swiss Air customer service team. You will be prompted to choose your language, and then you will be connected to a representative.\\n\\nStep 3: Provide your Flight Details\\n\\nProvide your flight details, including your booking reference number, flight number, and departure date. The representative will confirm your flight details and ask you why you want to cancel your flight.\\n\\nStep 4: Confirm the Cancellation\\n\\nConfirm that you want to cancel your flight. The representative will let you know if there are any cancellation fees or penalties associated with your ticket, and what your refund options are.\\n\\nStep 5: Receive Confirmation\\n\\nYou will receive a confirmation email once your cancellation has been processed. Make sure to save this email for your records.\\n\\nSwiss Air Flight Cancellations at Airport\\nStep 1: Go to the Airport\\n\\nIf you\\'re cancelling your Swiss Air flight at the airport, go to the Swiss Air check-in desk or the customer service desk.\\n\\nStep 2: Provide your Flight Details\\n\\nProvide your flight details to the representative at the desk, including your booking reference number, flight number, and departure date. The representative will confirm your flight details and ask you why you want to cancel your flight.\\n\\nStep 3: Confirm the Cancellation\\n\\nConfirm that you want to cancel your flight. The representative will let you know if there are any cancellation fees or penalties associated with your ticket, and what your refund options are.\\n\\nStep 4: Receive Confirmation\\n\\nYou will receive a confirmation email once your cancellation has been processed. Make sure to save this email for your records.\\n\\nImportant Things to Keep in Mind to Cancel a Swiss Air Flight\\nIf you have a non-refundable ticket, you may not be eligible for a refund or may only be able to receive a partial refund.\\nIf you booked your flight through a third-party website or travel agent, you may need to contact them directly to cancel your flight.\\nAlways check the terms and conditions of your ticket to make sure you understand the cancellation policy and any associated fees or penalties.\\nIf you\\'re cancelling your flight due to unforeseen circumstances such as a medical emergency or a natural disaster, Swiss Air may offer you special exemptions or accommodations.\\nWhat is Swiss Airlines 24 Hour Cancellation Policy?\\nSwiss Airlines has a 24 hour cancellation policy that allows passengers to cancel their flights within 24 hours of booking at +1-877-507-7341 without penalty. This policy applies to all fare types, including non-refundable tickets. If you cancel your Swiss Airlines flight within 24 hours of booking, you\\'ll receive a full refund of your ticket price.\\n\\nHow to Cancel Swiss Airlines Flight within 24 Hours?\\nIf you need to cancel your Swiss Airlines flight within 24 hours of booking, you can do so easily online. Here are the steps to follow:\\n\\nGo to Swiss Airlines\\' website and click on the \"Manage your bookings\" tab.\\nEnter your booking reference number and last name to access your booking.\\nSelect the flight you want to cancel and click on \"Cancel flight.\"\\nConfirm your cancellation and you\\'ll receive a full refund of your ticket price.\\nIf you booked your Swiss Airlines flight through a travel agent, you\\'ll need to contact them directly to cancel your flight within 24 hours.\\n\\nImportant Things to Keep in Mind for Swiss Airlines 24 Hour Cancellation\\nHere are some important things to keep in mind when cancelling your Swiss Airlines flight within 24 hours:\\n\\nSwiss Airlines\\' 24 hour cancellation policy only applies to flights booked directly through Swiss Airlines. If you booked your flight through a travel agent or third-party website, you\\'ll need to check their cancellation policy.\\nIf you cancel your Swiss Airlines flight after the 24 hour window, you may be subject to cancellation fees or penalties.\\nIf you have a non-refundable ticket and cancel your flight within 24 hours of booking, you\\'ll receive a full refund of your ticket price. However, if you cancel your flight after the 24 hour window, you may not be eligible for a refund.\\nSwiss Airlines\\' 24 hour cancellation policy allows passengers to cancel their flights within 24 hours of booking without penalty. If you need to cancel your Swiss Airlines flight within 24 hours, you can do so easily online. Just remember to check the terms and conditions of your ticket to make sure you\\'re eligible for a refund.\\n\\nSwiss Air Cancellation Fees\\nThe cancellation fees for Swiss Air flights may vary depending on the type of ticket you have purchased. The airline offers three different types of tickets, which are:\\n\\nFlex Ticket - This ticket offers the most flexibility and allows passengers to make changes or cancel their flight without incurring any additional fees.\\nStandard Ticket - This ticket offers some flexibility but charges a fee for changes and cancellations. The fee for cancelling a standard ticket can range from 100 to 250 CHF, depending on the route and time of cancellation.\\nEconomy Ticket - This ticket offers the least flexibility and charges a fee for any changes or cancellations. The fee for cancelling an economy ticket can range from 150 to 350 CHF, depending on the route and time of cancellation.\\nIt is important to note that the fees listed above are subject to change and may vary depending on the specific ticket you have purchased. Additionally, if you have purchased any add-ons or upgrades, such as extra baggage or seat selection, the fees associated with cancelling those may also apply.\\n\\nSwiss Air Refund Policy\\nIf you cancel your Swiss Air flight, you may be eligible for a refund depending on the type of ticket you have purchased and the time of cancellation. Here are the details:\\n\\nFlex Ticket - If you have purchased a Flex Ticket, you can cancel your flight without incurring any fees and receive a full refund.\\nStandard Ticket - If you have purchased a Standard Ticket and cancel your flight within 24 hours of booking, you can receive a full refund. If you cancel your flight after 24 hours, you may be charged a cancellation fee and receive a partial refund.\\nEconomy Ticket - If you have purchased an Economy Ticket and cancel your flight within 24 hours of booking, you can receive a full refund. If you cancel your flight after 24 hours, you may be charged a cancellation fee and receive a partial refund.\\nIt is important to note that the refund policy may vary depending on the route and time of cancellation. Additionally, if you have purchased any add-ons or upgrades, the refund policy associated with those may also apply.\\n\\nSwiss Flight Cancellation Compensation Explained\\nSwiss Air has a comprehensive cancellation policy that outlines the compensation passengers are entitled to in case of flight cancellations. Depending on the circumstances, passengers may be eligible for a full refund, rebooking on the next available flight, or financial compensation. We\\'ll break down the specifics of the policy and provide step-by-step instructions on how to make a claim for compensation.\\n\\nIn addition, we\\'ll also provide tips on how to avoid flight cancellations in the first place, such as booking your flight in advance and keeping an eye on weather forecasts and other potential disruptions.\\n\\nFlight cancellations can be frustrating, but knowing your rights and how to claim compensation can make the experience less stressful. With Swiss Air\\'s comprehensive cancellation policy and our tips for avoiding cancellations, you can rest assured that your travel plans are in good hands.\\n\\nConclusion\\n\\nIn summary, the Swiss Air Cancellation Policy is designed to provide passengers with flexibility and options when it comes to cancelling their flights. If you need to cancel a Swiss Air flight, you can do so online, through the mobile app, or by contacting the Swiss Air Customer Service team. However, it is important to understand the fees associated with cancelling a flight and the refund policy that applies to your specific ticket.\\n\\nBy understanding the Swiss Air Cancellation Policy, you can make informed decisions and avoid any confusion or additional charges. With this policy, Swiss Airlines aims to provide flexibility and convenience to its passengers, making travel planning a hassle-free experience.'"
      ]
     },
     "execution_count": 2,
     "metadata": {},
     "output_type": "execute_result"
    }
   ],
   "source": [
    "from tools.lookup_policy import lookup_policy\n",
    "\n",
    "query = \"How can i change my flight?\"\n",
    "policy = lookup_policy(query)\n",
    "policy"
   ]
  },
  {
   "cell_type": "markdown",
   "metadata": {},
   "source": [
    "# Graphs"
   ]
  },
  {
   "cell_type": "code",
   "execution_count": 1,
   "metadata": {},
   "outputs": [
    {
     "data": {
      "image/jpeg": "[encoded data removed]",
      "text/plain": [
       "<IPython.core.display.Image object>"
      ]
     },
     "metadata": {},
     "output_type": "display_data"
    }
   ],
   "source": [
    "from chatbotV01.graph import build_graph as bg1\n",
    "from chatbotV02.graph import draw_graph\n",
    "\n",
    "graph01 = bg1()\n",
    "draw_graph(graph01)"
   ]
  },
  {
   "cell_type": "code",
   "execution_count": 2,
   "metadata": {},
   "outputs": [
    {
     "data": {
      "image/jpeg": "[encoded data removed]",
      "text/plain": [
       "<IPython.core.display.Image object>"
      ]
     },
     "metadata": {},
     "output_type": "display_data"
    }
   ],
   "source": [
    "from chatbotV02.graph import draw_graph, build_graph as bg2\n",
    "\n",
    "graph02 = bg2()\n",
    "draw_graph(graph02)"
   ]
  },
  {
   "cell_type": "code",
   "execution_count": 3,
   "metadata": {},
   "outputs": [
    {
     "data": {
      "image/jpeg": "[encoded data removed]",
      "text/plain": [
       "<IPython.core.display.Image object>"
      ]
     },
     "metadata": {},
     "output_type": "display_data"
    }
   ],
   "source": [
    "from chatbotV03.graph import draw_graph, build_graph as bg3\n",
    "\n",
    "graph03 = bg3()\n",
    "draw_graph(graph03)"
   ]
  },
  {
   "cell_type": "code",
   "execution_count": null,
   "metadata": {},
   "outputs": [],
   "source": []
  }
 ],
 "metadata": {
  "kernelspec": {
   "display_name": ".venv",
   "language": "python",
   "name": "python3"
  },
  "language_info": {
   "codemirror_mode": {
    "name": "ipython",
    "version": 3
   },
   "file_extension": ".py",
   "mimetype": "text/x-python",
   "name": "python",
   "nbconvert_exporter": "python",
   "pygments_lexer": "ipython3",
   "version": "3.12.3"
  }
 },
 "nbformat": 4,
 "nbformat_minor": 2
}
